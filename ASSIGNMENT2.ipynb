{
 "cells": [
  {
   "cell_type": "markdown",
   "metadata": {},
   "source": [
    "# Section 1"
   ]
  },
  {
   "cell_type": "markdown",
   "metadata": {},
   "source": [
    "The entity extractor works fairly well. It has correctly identified 48 out of 82 entities over the sample of 100 sentences. This means it has worked well on 58% of the entities.\n",
    "\n",
    "###### PERSON\n",
    "\n",
    "The entity extractor works best with the PERSON entity type. In 42 out of 55 mentions of people, it has correctly identified them. An example is the sentence:\n",
    "\n",
    "\"She was good enough for Mr. Elton, no doubt; accomplished enough for Highbury-- handsome enough--to look plain, probably, by Harriet's side.\"\n",
    "\n",
    "where both Elton and Harriet are marked as PERSON.\n",
    "\n",
    "A common mistake that the extractor does is to miss a PERSON entity when it is at the beginning of the sentence. For example in the sentence:\n",
    "\n",
    "\"Emma watched the entree of her own particular little friend; and if she could not exult in her dignity and grace, she could not only love the blooming sweetness and the artless manner, but could most heartily rejoice in that light, cheerful, unsentimental disposition which allowed her so many alleviations of pleasure, in the midst of the pangs of disappointed affection.\"\n",
    "\n",
    "Emma is missed, and in 5 more sentences with Emma at the start, the entity is not distinguised either.\n",
    "\n",
    "A PERSON is sometimes wrongly identified. In the sentence:\n",
    "\n",
    "\"This is most kind, indeed!--Miss Woodhouse, it is impossible for me to express--I hope you will believe\"\n",
    "\n",
    "Woodhouse is identified as ORG, which happens in \"Pray be sincere, Knightley.\" as well.\n",
    "\n",
    "Another type of mistake of the extractor is to assign the PERSON type to a non-entity. It has occured in only one sentence:\n",
    "\n",
    "\"The circumstance was told him at Hartfield; for the moment, he was silent; but Emma heard him almost immediately afterwards say to himself, over a newspaper he held in his hand, \"Hum!\"\n",
    "\n",
    "Here Hum is wrongly assigned as PERSON.\n",
    "\n",
    "###### DATE\n",
    "\n",
    "The extractor distinguishes DATE 100%. It has identified 2/2 mentions of the DATE entity type in the sample. An example is:\n",
    "\n",
    "\"Emma, who was not really at all frightened herself, tranquillised this excess of apprehension by assurances of Mrs. Goddard's experience and care; but as there must still remain a degree of uneasiness which she could not wish to reason away, which she would rather feed and assist than not, she added soon afterwards--as if quite another subject, \"It is so cold, so very cold--and looks and feels so very much like snow, that if it were to any other place or with any other party, I should really try not to go out to-day--and dissuade my father from venturing; but as he has made up his mind, and does not seem to feel the cold himself, I do not like to interfere, as I know it would be so great a disappointment to Mr. and Mrs. Weston.\"\n",
    "\n",
    "where \"day\" is marked as DATE, which is correct, although the whole word is \"to-day\". This might be regarded as a mistake of type \"wrong span identified\".\n",
    "\n",
    "###### TIME\n",
    "\n",
    "TIME is another successful type. 3 out of 4 TIME entities have been correctly identified. A correct sentence is:\n",
    "\n",
    "\"It can be round in five minutes.\"\n",
    "\n",
    "where 'five minutes' is of type TIME.\n",
    "\n",
    "A mistake has occured in:\n",
    "\n",
    "\"Such a dreadful broiling morning!\"\n",
    "\n",
    "where the entity has been fully missed.\n",
    "\n",
    "###### GPE\n",
    "\n",
    "The extractor has worked on 16% of the GPE entities. In the other cases it has wrongly identified a GPE entity as a ORG entity, like in the following sentence:\n",
    "\n",
    "\"There will be but one subject throughout the parishes of Donwell and Highbury; but one interest-- one object of curiosity; it will be all Mr. Frank Churchill; we shall think and speak of nobody else.\"\n",
    "\n",
    "where Donwell and Highbury are both marked as ORG.\n",
    "\n",
    "It has also missed the entity altogether in the case of:\n",
    "\n",
    "\"They would be married, and settled either at or near Enscombe.\"\n",
    "\n",
    "It has always missed to identify 'Enscombe'.\n",
    "\n",
    "###### LOC, CARDINAL AND ORDINAL\n",
    "\n",
    "The extractor has not worked on any entity of type LOC, CARDINAL or ORDINAL. It has sometimes missed the entity:\n",
    "\n",
    "\"They were now approaching the cottage, and all idle topics were superseded.\" (cottage should be LOC)\n",
    "\n",
    "\"So seldom that a letter, among the thousands that are constantly passing about the kingdom, is even carried wrong--and not one in a million, I suppose, actually lost!\" (one and million should be CARDINAL)\n",
    "\n",
    "\"Before Emma had forfeited her confidence, and about the third time of their meeting, she heard all Mrs. Elton's knight-errantry on the subject.-- \"Jane Fairfax is absolutely charming, Miss Woodhouse.--\" (third should be ORDINAL)\n",
    "\n",
    "It has sometimes wrongly identified the entities:\n",
    "\n",
    "\"no, it is a meeting at the Crown, a regular meeting.\" (Crown is ORG instead of LOC)\n",
    "\n",
    "\"CHAPTER XIV Mrs. Elton was first seen at church: but though devotion might be interrupted, curiosity could not be satisfied by a bride in a pew, and it must be left for the visits in form which were then to be paid, to settle whether she were very pretty indeed, or only rather pretty, or not pretty at all.\" (XIV  is ORG instead of ORDINAL)\n",
    "\n",
    "###### PRODUCT\n",
    "\n",
    "PRODUCT is a type that the entity extractor has never even identified as an entity. Some of them are:\n",
    "\n",
    "\n",
    "\"However, the very same evening William Larkins came over with a large basket of apples, the same sort of apples, a bushel at least, and I was very much obliged, and went down and spoke to William Larkins and said every thing, as you may suppose.\" (apples)\n",
    "\n",
    "\"She was then able to walk, though but slowly, and was moving away--but her terror and her purse were too tempting, and she was followed, or rather surrounded, by the whole gang, demanding more.\" (purse)\n",
    "\n",
    "\"I took him as he was sleeping on the sofa, and it is as strong a likeness of his cockade as you would wish to see.\" (sofa)\n",
    "\n",
    "\n",
    "###### Here is a Confusion Matrix to summarise the results\n",
    "\n",
    " | `PERSON` | `NORP` | `FACILITY` | `ORG` | `GPE` | `LOC` | `PRODUCT` | `EVENT` | `WORK_OF_ART` | `LAW` | `DATE` | `PERCENT` | `TIME` | `MONEY` | `QUANTITY` | `ORDINAL` | `CARDINAL` | \n",
    ":----: |---\n",
    "`PERSON`   | 42| | | 3| 2| | | | | | | | | | | |\n",
    "`GPE`      | | | | 3| 1| | | | | | | | | | | |\n",
    "`LOC`      | | | | 2| | | | | | | | | | | | |\n",
    "`PRODUCT`  | | | | | | | | | | | | | | | | |\n",
    "`DATE`     | | | | | | | | | | 2| | | | | | |\n",
    "`TIME`     | | | | | | | | | | | | 3| | | | |\n",
    "`ORDINAL`  | | | | | | | | | | | | | | | | |\n",
    "`CARDINAL` | | | | | | | | | | | | | | | | |\n",
    "\n",
    "\n",
    "\n"
   ]
  },
  {
   "cell_type": "markdown",
   "metadata": {},
   "source": [
    "."
   ]
  },
  {
   "cell_type": "markdown",
   "metadata": {},
   "source": [
    "# Section 2"
   ]
  },
  {
   "cell_type": "code",
   "execution_count": null,
   "metadata": {
    "collapsed": true
   },
   "outputs": [],
   "source": []
  }
 ],
 "metadata": {
  "kernelspec": {
   "display_name": "Python 3",
   "language": "python",
   "name": "python3"
  },
  "language_info": {
   "codemirror_mode": {
    "name": "ipython",
    "version": 3
   },
   "file_extension": ".py",
   "mimetype": "text/x-python",
   "name": "python",
   "nbconvert_exporter": "python",
   "pygments_lexer": "ipython3",
   "version": "3.6.3"
  }
 },
 "nbformat": 4,
 "nbformat_minor": 2
}
